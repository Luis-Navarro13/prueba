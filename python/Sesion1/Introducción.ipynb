{
 "cells": [
  {
   "cell_type": "code",
   "execution_count": 1,
   "id": "09a0b99b-ed6f-4281-abc9-55c0112148fa",
   "metadata": {},
   "outputs": [
    {
     "name": "stdout",
     "output_type": "stream",
     "text": [
      "hola mundo\n"
     ]
    }
   ],
   "source": [
    "print(\"hola mundo\")"
   ]
  },
  {
   "cell_type": "code",
   "execution_count": 2,
   "id": "63b2b0a1-d149-4a4e-935b-9c0a86602c1d",
   "metadata": {},
   "outputs": [],
   "source": [
    "lista1 = [1,2,3,4]"
   ]
  },
  {
   "cell_type": "code",
   "execution_count": 3,
   "id": "31858f68-439b-40d3-8e2c-7a73259262d7",
   "metadata": {},
   "outputs": [],
   "source": [
    "lista1[0:1] = [5,6]"
   ]
  },
  {
   "cell_type": "code",
   "execution_count": 4,
   "id": "bd2a2d83-7eb4-46bd-960c-68e1360f9e57",
   "metadata": {},
   "outputs": [
    {
     "data": {
      "text/plain": [
       "[5, 6, 2, 3, 4]"
      ]
     },
     "execution_count": 4,
     "metadata": {},
     "output_type": "execute_result"
    }
   ],
   "source": [
    "lista1"
   ]
  },
  {
   "cell_type": "code",
   "execution_count": 7,
   "id": "8a129237-8aee-407a-b06f-157075d68fb6",
   "metadata": {},
   "outputs": [],
   "source": [
    "#append uno por uno\n",
    "lista1.append(1)\n",
    "lista1.append([1,2])"
   ]
  },
  {
   "cell_type": "code",
   "execution_count": 8,
   "id": "e5aec213-1803-40e1-a781-ae48fc7ea207",
   "metadata": {},
   "outputs": [
    {
     "data": {
      "text/plain": [
       "[5, 6, 2, 3, 4, 1, 1, 1, [1, 2]]"
      ]
     },
     "execution_count": 8,
     "metadata": {},
     "output_type": "execute_result"
    }
   ],
   "source": [
    "lista1"
   ]
  },
  {
   "cell_type": "code",
   "execution_count": 9,
   "id": "fda805d7-eb7e-425b-b247-81f184e9b2cd",
   "metadata": {},
   "outputs": [],
   "source": [
    "#ingresar varios\n",
    "lista1.extend([2,3])"
   ]
  },
  {
   "cell_type": "code",
   "execution_count": 10,
   "id": "e681e43c-abd1-4a16-aab7-387aff77b13a",
   "metadata": {},
   "outputs": [
    {
     "data": {
      "text/plain": [
       "[5, 6, 2, 3, 4, 1, 1, 1, [1, 2], 2, 3]"
      ]
     },
     "execution_count": 10,
     "metadata": {},
     "output_type": "execute_result"
    }
   ],
   "source": [
    "lista1"
   ]
  },
  {
   "cell_type": "code",
   "execution_count": 14,
   "id": "4e1be914-2e99-4fc4-ae35-c94b9e05d091",
   "metadata": {},
   "outputs": [
    {
     "name": "stdout",
     "output_type": "stream",
     "text": [
      "5\n",
      "6\n",
      "2\n",
      "3\n",
      "4\n",
      "1\n",
      "1\n",
      "1\n",
      "[1, 2]\n",
      "2\n",
      "3\n"
     ]
    }
   ],
   "source": [
    "for i in lista1:\n",
    "    print(i)"
   ]
  },
  {
   "cell_type": "code",
   "execution_count": 15,
   "id": "0780d432-2aba-4379-b70c-7dced27f421a",
   "metadata": {},
   "outputs": [],
   "source": [
    "# Tuplas\n",
    "tupla = ()"
   ]
  },
  {
   "cell_type": "code",
   "execution_count": 19,
   "id": "9f6c93df-235e-4657-8c37-aaad2dccb75c",
   "metadata": {},
   "outputs": [
    {
     "data": {
      "text/plain": [
       "(1, 2, 3)"
      ]
     },
     "execution_count": 19,
     "metadata": {},
     "output_type": "execute_result"
    }
   ],
   "source": [
    "# enteros\n",
    "tupla = (1,2,3)\n",
    "#mixta \n",
    "tuplam = (1,\"1\",1.2)\n",
    "#tupla anidada \n",
    "tuplani = (1,2,(1,2))"
   ]
  },
  {
   "cell_type": "code",
   "execution_count": 20,
   "id": "6df878af-3a77-4d9a-8eb3-a4de1fc72bcb",
   "metadata": {},
   "outputs": [
    {
     "data": {
      "text/plain": [
       "((1, 2, 3), (1, '1', 1.2), (1, 2, (1, 2)))"
      ]
     },
     "execution_count": 20,
     "metadata": {},
     "output_type": "execute_result"
    }
   ],
   "source": [
    "tupla,tuplam,tuplani"
   ]
  },
  {
   "cell_type": "code",
   "execution_count": 24,
   "id": "6323fa2d-d752-4710-9061-50da1f81cc9b",
   "metadata": {},
   "outputs": [
    {
     "data": {
      "text/plain": [
       "tuple"
      ]
     },
     "execution_count": 24,
     "metadata": {},
     "output_type": "execute_result"
    }
   ],
   "source": [
    "tupla = 1,\n",
    "type(tupla)"
   ]
  },
  {
   "cell_type": "code",
   "execution_count": 30,
   "id": "39379a0a-bbdf-4597-878c-98ad049cb9ca",
   "metadata": {},
   "outputs": [
    {
     "data": {
      "text/plain": [
       "'martes'"
      ]
     },
     "execution_count": 30,
     "metadata": {},
     "output_type": "execute_result"
    }
   ],
   "source": [
    "# diccionario\n",
    "diccionario = {}\n",
    "diccionario = {1:\"lunes\",2:\"martes\",3:\"miercoles\"}\n",
    "diccionario[2]"
   ]
  },
  {
   "cell_type": "code",
   "execution_count": 33,
   "id": "576471b1-c0c4-4e6d-9ffd-bf59b105b5ab",
   "metadata": {},
   "outputs": [],
   "source": [
    "diccionario = {\"nombre\":\"luis\",\"edad\":13,\"pais\":\"Mexico\"}"
   ]
  },
  {
   "cell_type": "code",
   "execution_count": 37,
   "id": "22960496-313a-4e39-a174-4075067b7173",
   "metadata": {},
   "outputs": [
    {
     "data": {
      "text/plain": [
       "'luis'"
      ]
     },
     "execution_count": 37,
     "metadata": {},
     "output_type": "execute_result"
    }
   ],
   "source": [
    "diccionario.get(\"nombre\")"
   ]
  },
  {
   "cell_type": "code",
   "execution_count": 38,
   "id": "5aca74bf-9897-41ad-beae-1bd7ff549124",
   "metadata": {},
   "outputs": [],
   "source": [
    "diccionario['nombre'] = \"pedro\""
   ]
  },
  {
   "cell_type": "code",
   "execution_count": 39,
   "id": "47faf87f-68b0-4a18-a110-60cd2c4a7d08",
   "metadata": {},
   "outputs": [
    {
     "data": {
      "text/plain": [
       "'pedro'"
      ]
     },
     "execution_count": 39,
     "metadata": {},
     "output_type": "execute_result"
    }
   ],
   "source": [
    "diccionario.get(\"nombre\")"
   ]
  },
  {
   "cell_type": "code",
   "execution_count": 40,
   "id": "32b0d9eb-6203-4be0-b3d6-3e3a3da7c0f1",
   "metadata": {},
   "outputs": [],
   "source": [
    "diccionario[\"telefono\"] = 12345689"
   ]
  },
  {
   "cell_type": "code",
   "execution_count": 48,
   "id": "17b677c7-e511-45c8-b925-433b111d0026",
   "metadata": {},
   "outputs": [
    {
     "name": "stdout",
     "output_type": "stream",
     "text": [
      "nombre pedro\n",
      "edad 13\n",
      "pais Mexico\n",
      "telefono 12345689\n"
     ]
    }
   ],
   "source": [
    "for i in diccionario.keys():\n",
    "    print(i,diccionario[i])"
   ]
  },
  {
   "cell_type": "code",
   "execution_count": null,
   "id": "754b731d-b415-4356-aacc-626c32009d48",
   "metadata": {},
   "outputs": [],
   "source": []
  }
 ],
 "metadata": {
  "kernelspec": {
   "display_name": "Python 3 (ipykernel)",
   "language": "python",
   "name": "python3"
  },
  "language_info": {
   "codemirror_mode": {
    "name": "ipython",
    "version": 3
   },
   "file_extension": ".py",
   "mimetype": "text/x-python",
   "name": "python",
   "nbconvert_exporter": "python",
   "pygments_lexer": "ipython3",
   "version": "3.9.19"
  }
 },
 "nbformat": 4,
 "nbformat_minor": 5
}
