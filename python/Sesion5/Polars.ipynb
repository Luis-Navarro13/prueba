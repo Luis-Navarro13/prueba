{
 "cells": [
  {
   "cell_type": "code",
   "execution_count": 1,
   "id": "5c3baac2-1d6d-471f-8a0a-9d6cb36b01c8",
   "metadata": {},
   "outputs": [
    {
     "name": "stdout",
     "output_type": "stream",
     "text": [
      "Collecting polars\n",
      "  Downloading polars-0.20.26-cp38-abi3-manylinux_2_17_x86_64.manylinux2014_x86_64.whl (28.0 MB)\n",
      "\u001b[2K     \u001b[90m━━━━━━━━━━━━━━━━━━━━━━━━━━━━━━━━━━━━━━━━\u001b[0m \u001b[32m28.0/28.0 MB\u001b[0m \u001b[31m49.1 MB/s\u001b[0m eta \u001b[36m0:00:00\u001b[0m00:01\u001b[0m00:01\u001b[0m\n",
      "\u001b[?25hInstalling collected packages: polars\n",
      "Successfully installed polars-0.20.26\n",
      "\u001b[33mWARNING: Running pip as the 'root' user can result in broken permissions and conflicting behaviour with the system package manager. It is recommended to use a virtual environment instead: https://pip.pypa.io/warnings/venv\u001b[0m\u001b[33m\n",
      "\u001b[0m\n",
      "\u001b[1m[\u001b[0m\u001b[34;49mnotice\u001b[0m\u001b[1;39;49m]\u001b[0m\u001b[39;49m A new release of pip is available: \u001b[0m\u001b[31;49m23.0.1\u001b[0m\u001b[39;49m -> \u001b[0m\u001b[32;49m24.0\u001b[0m\n",
      "\u001b[1m[\u001b[0m\u001b[34;49mnotice\u001b[0m\u001b[1;39;49m]\u001b[0m\u001b[39;49m To update, run: \u001b[0m\u001b[32;49mpip install --upgrade pip\u001b[0m\n"
     ]
    }
   ],
   "source": [
    "! pip install polars"
   ]
  },
  {
   "cell_type": "code",
   "execution_count": 2,
   "id": "154ad9ce-5eca-43a8-b2cb-441e61372522",
   "metadata": {},
   "outputs": [],
   "source": [
    "import polars as pl"
   ]
  },
  {
   "cell_type": "code",
   "execution_count": 4,
   "id": "bcbd0594-dfca-4211-9714-063ed4355c28",
   "metadata": {},
   "outputs": [],
   "source": [
    "data = {\n",
    "    \"nombre\" : [\"Alicia\",\"Marco\",\"Pedro\"],\n",
    "    \"Edad\" : [30,20,30],\n",
    "    \"Salario\" : [3000,5000,7000]\n",
    "}\n",
    "df = pl.DataFrame(data)"
   ]
  },
  {
   "cell_type": "code",
   "execution_count": 7,
   "id": "55ad23e8-a0f8-4fb1-9151-32c9543ab39a",
   "metadata": {},
   "outputs": [
    {
     "data": {
      "text/html": [
       "<div><style>\n",
       ".dataframe > thead > tr,\n",
       ".dataframe > tbody > tr {\n",
       "  text-align: right;\n",
       "  white-space: pre-wrap;\n",
       "}\n",
       "</style>\n",
       "<small>shape: (9, 4)</small><table border=\"1\" class=\"dataframe\"><thead><tr><th>statistic</th><th>nombre</th><th>Edad</th><th>Salario</th></tr><tr><td>str</td><td>str</td><td>f64</td><td>f64</td></tr></thead><tbody><tr><td>&quot;count&quot;</td><td>&quot;3&quot;</td><td>3.0</td><td>3.0</td></tr><tr><td>&quot;null_count&quot;</td><td>&quot;0&quot;</td><td>0.0</td><td>0.0</td></tr><tr><td>&quot;mean&quot;</td><td>null</td><td>26.666667</td><td>5000.0</td></tr><tr><td>&quot;std&quot;</td><td>null</td><td>5.773503</td><td>2000.0</td></tr><tr><td>&quot;min&quot;</td><td>&quot;Alicia&quot;</td><td>20.0</td><td>3000.0</td></tr><tr><td>&quot;25%&quot;</td><td>null</td><td>30.0</td><td>5000.0</td></tr><tr><td>&quot;50%&quot;</td><td>null</td><td>30.0</td><td>5000.0</td></tr><tr><td>&quot;75%&quot;</td><td>null</td><td>30.0</td><td>7000.0</td></tr><tr><td>&quot;max&quot;</td><td>&quot;Pedro&quot;</td><td>30.0</td><td>7000.0</td></tr></tbody></table></div>"
      ],
      "text/plain": [
       "shape: (9, 4)\n",
       "┌────────────┬────────┬───────────┬─────────┐\n",
       "│ statistic  ┆ nombre ┆ Edad      ┆ Salario │\n",
       "│ ---        ┆ ---    ┆ ---       ┆ ---     │\n",
       "│ str        ┆ str    ┆ f64       ┆ f64     │\n",
       "╞════════════╪════════╪═══════════╪═════════╡\n",
       "│ count      ┆ 3      ┆ 3.0       ┆ 3.0     │\n",
       "│ null_count ┆ 0      ┆ 0.0       ┆ 0.0     │\n",
       "│ mean       ┆ null   ┆ 26.666667 ┆ 5000.0  │\n",
       "│ std        ┆ null   ┆ 5.773503  ┆ 2000.0  │\n",
       "│ min        ┆ Alicia ┆ 20.0      ┆ 3000.0  │\n",
       "│ 25%        ┆ null   ┆ 30.0      ┆ 5000.0  │\n",
       "│ 50%        ┆ null   ┆ 30.0      ┆ 5000.0  │\n",
       "│ 75%        ┆ null   ┆ 30.0      ┆ 7000.0  │\n",
       "│ max        ┆ Pedro  ┆ 30.0      ┆ 7000.0  │\n",
       "└────────────┴────────┴───────────┴─────────┘"
      ]
     },
     "execution_count": 7,
     "metadata": {},
     "output_type": "execute_result"
    }
   ],
   "source": [
    "df.describe()"
   ]
  },
  {
   "cell_type": "code",
   "execution_count": 8,
   "id": "9d322337-2ff1-4b74-a8d6-52c5ee34e0dc",
   "metadata": {},
   "outputs": [
    {
     "data": {
      "text/html": [
       "<div><style>\n",
       ".dataframe > thead > tr,\n",
       ".dataframe > tbody > tr {\n",
       "  text-align: right;\n",
       "  white-space: pre-wrap;\n",
       "}\n",
       "</style>\n",
       "<small>shape: (13, 3)</small><table border=\"1\" class=\"dataframe\"><thead><tr><th>break_point</th><th>category</th><th>count</th></tr><tr><td>f64</td><td>cat</td><td>u32</td></tr></thead><tbody><tr><td>19.0</td><td>&quot;(-inf, 19.0]&quot;</td><td>0</td></tr><tr><td>20.0</td><td>&quot;(19.0, 20.0]&quot;</td><td>1</td></tr><tr><td>21.0</td><td>&quot;(20.0, 21.0]&quot;</td><td>0</td></tr><tr><td>22.0</td><td>&quot;(21.0, 22.0]&quot;</td><td>0</td></tr><tr><td>23.0</td><td>&quot;(22.0, 23.0]&quot;</td><td>0</td></tr><tr><td>&hellip;</td><td>&hellip;</td><td>&hellip;</td></tr><tr><td>27.0</td><td>&quot;(26.0, 27.0]&quot;</td><td>0</td></tr><tr><td>28.0</td><td>&quot;(27.0, 28.0]&quot;</td><td>0</td></tr><tr><td>29.0</td><td>&quot;(28.0, 29.0]&quot;</td><td>0</td></tr><tr><td>30.0</td><td>&quot;(29.0, 30.0]&quot;</td><td>2</td></tr><tr><td>inf</td><td>&quot;(30.0, inf]&quot;</td><td>0</td></tr></tbody></table></div>"
      ],
      "text/plain": [
       "shape: (13, 3)\n",
       "┌─────────────┬──────────────┬───────┐\n",
       "│ break_point ┆ category     ┆ count │\n",
       "│ ---         ┆ ---          ┆ ---   │\n",
       "│ f64         ┆ cat          ┆ u32   │\n",
       "╞═════════════╪══════════════╪═══════╡\n",
       "│ 19.0        ┆ (-inf, 19.0] ┆ 0     │\n",
       "│ 20.0        ┆ (19.0, 20.0] ┆ 1     │\n",
       "│ 21.0        ┆ (20.0, 21.0] ┆ 0     │\n",
       "│ 22.0        ┆ (21.0, 22.0] ┆ 0     │\n",
       "│ 23.0        ┆ (22.0, 23.0] ┆ 0     │\n",
       "│ …           ┆ …            ┆ …     │\n",
       "│ 27.0        ┆ (26.0, 27.0] ┆ 0     │\n",
       "│ 28.0        ┆ (27.0, 28.0] ┆ 0     │\n",
       "│ 29.0        ┆ (28.0, 29.0] ┆ 0     │\n",
       "│ 30.0        ┆ (29.0, 30.0] ┆ 2     │\n",
       "│ inf         ┆ (30.0, inf]  ┆ 0     │\n",
       "└─────────────┴──────────────┴───────┘"
      ]
     },
     "execution_count": 8,
     "metadata": {},
     "output_type": "execute_result"
    }
   ],
   "source": [
    "df[\"Edad\"].hist()"
   ]
  },
  {
   "cell_type": "code",
   "execution_count": 10,
   "id": "f1f374d1-e5b7-4789-8183-35d1086dc7c2",
   "metadata": {},
   "outputs": [
    {
     "data": {
      "text/plain": [
       "['nombre', 'Edad', 'Salario']"
      ]
     },
     "execution_count": 10,
     "metadata": {},
     "output_type": "execute_result"
    }
   ],
   "source": [
    "df.columns"
   ]
  },
  {
   "cell_type": "code",
   "execution_count": 11,
   "id": "b9133103-72c6-4648-82cc-2759a3ee454c",
   "metadata": {},
   "outputs": [
    {
     "data": {
      "text/plain": [
       "OrderedDict([('nombre', String), ('Edad', Int64), ('Salario', Int64)])"
      ]
     },
     "execution_count": 11,
     "metadata": {},
     "output_type": "execute_result"
    }
   ],
   "source": [
    "df.schema"
   ]
  },
  {
   "cell_type": "code",
   "execution_count": 12,
   "id": "2eb22d53-f4ca-4b43-a284-1cfd46ce8a28",
   "metadata": {},
   "outputs": [],
   "source": [
    "import numpy as np"
   ]
  },
  {
   "cell_type": "code",
   "execution_count": 26,
   "id": "c5a16a89-2134-4ff1-8e29-3db2aa9a0b03",
   "metadata": {},
   "outputs": [],
   "source": [
    "num_row = 5000\n",
    "rng = np.random.default_rng(seed=6)\n",
    "\n",
    "data = {\n",
    "    \"abc\": rng.exponential(scale = 1000, size = num_row),\n",
    "    \"yyyy\": rng.integers(low = 1995, high = 2024, size = num_row),\n",
    "    \"tipo\": rng.choice(['A','B','C'], size = num_row)\n",
    "}"
   ]
  },
  {
   "cell_type": "code",
   "execution_count": 27,
   "id": "b74f0ef1-d093-46c0-8f5a-29ab814cb44e",
   "metadata": {},
   "outputs": [
    {
     "data": {
      "text/html": [
       "<div><style>\n",
       ".dataframe > thead > tr,\n",
       ".dataframe > tbody > tr {\n",
       "  text-align: right;\n",
       "  white-space: pre-wrap;\n",
       "}\n",
       "</style>\n",
       "<small>shape: (5, 3)</small><table border=\"1\" class=\"dataframe\"><thead><tr><th>abc</th><th>yyyy</th><th>tipo</th></tr><tr><td>f64</td><td>i64</td><td>str</td></tr></thead><tbody><tr><td>691.262417</td><td>1999</td><td>&quot;B&quot;</td></tr><tr><td>183.450091</td><td>2009</td><td>&quot;B&quot;</td></tr><tr><td>602.713529</td><td>2002</td><td>&quot;B&quot;</td></tr><tr><td>535.883635</td><td>2021</td><td>&quot;A&quot;</td></tr><tr><td>734.729888</td><td>2004</td><td>&quot;A&quot;</td></tr></tbody></table></div>"
      ],
      "text/plain": [
       "shape: (5, 3)\n",
       "┌────────────┬──────┬──────┐\n",
       "│ abc        ┆ yyyy ┆ tipo │\n",
       "│ ---        ┆ ---  ┆ ---  │\n",
       "│ f64        ┆ i64  ┆ str  │\n",
       "╞════════════╪══════╪══════╡\n",
       "│ 691.262417 ┆ 1999 ┆ B    │\n",
       "│ 183.450091 ┆ 2009 ┆ B    │\n",
       "│ 602.713529 ┆ 2002 ┆ B    │\n",
       "│ 535.883635 ┆ 2021 ┆ A    │\n",
       "│ 734.729888 ┆ 2004 ┆ A    │\n",
       "└────────────┴──────┴──────┘"
      ]
     },
     "execution_count": 27,
     "metadata": {},
     "output_type": "execute_result"
    }
   ],
   "source": [
    "df = pl.DataFrame(data)\n",
    "df.head()"
   ]
  },
  {
   "cell_type": "code",
   "execution_count": 28,
   "id": "61bc79ea-ad58-41af-ae5f-fca8108bcdc7",
   "metadata": {},
   "outputs": [
    {
     "data": {
      "text/plain": [
       "(5000, 3)"
      ]
     },
     "execution_count": 28,
     "metadata": {},
     "output_type": "execute_result"
    }
   ],
   "source": [
    "df.shape"
   ]
  },
  {
   "cell_type": "code",
   "execution_count": 29,
   "id": "979078a3-2bf0-4e79-968b-6c5b3e897eea",
   "metadata": {},
   "outputs": [
    {
     "data": {
      "text/html": [
       "<div><style>\n",
       ".dataframe > thead > tr,\n",
       ".dataframe > tbody > tr {\n",
       "  text-align: right;\n",
       "  white-space: pre-wrap;\n",
       "}\n",
       "</style>\n",
       "<small>shape: (5_000, 1)</small><table border=\"1\" class=\"dataframe\"><thead><tr><th>abc</th></tr><tr><td>f64</td></tr></thead><tbody><tr><td>691.262417</td></tr><tr><td>183.450091</td></tr><tr><td>602.713529</td></tr><tr><td>535.883635</td></tr><tr><td>734.729888</td></tr><tr><td>&hellip;</td></tr><tr><td>473.241886</td></tr><tr><td>476.181568</td></tr><tr><td>1059.974062</td></tr><tr><td>321.801803</td></tr><tr><td>478.724566</td></tr></tbody></table></div>"
      ],
      "text/plain": [
       "shape: (5_000, 1)\n",
       "┌─────────────┐\n",
       "│ abc         │\n",
       "│ ---         │\n",
       "│ f64         │\n",
       "╞═════════════╡\n",
       "│ 691.262417  │\n",
       "│ 183.450091  │\n",
       "│ 602.713529  │\n",
       "│ 535.883635  │\n",
       "│ 734.729888  │\n",
       "│ …           │\n",
       "│ 473.241886  │\n",
       "│ 476.181568  │\n",
       "│ 1059.974062 │\n",
       "│ 321.801803  │\n",
       "│ 478.724566  │\n",
       "└─────────────┘"
      ]
     },
     "execution_count": 29,
     "metadata": {},
     "output_type": "execute_result"
    }
   ],
   "source": [
    "df.select('abc')"
   ]
  },
  {
   "cell_type": "code",
   "execution_count": 30,
   "id": "303f932a-175a-4579-88ff-f5620bcb45e5",
   "metadata": {},
   "outputs": [
    {
     "data": {
      "text/html": [
       "<div><style>\n",
       ".dataframe > thead > tr,\n",
       ".dataframe > tbody > tr {\n",
       "  text-align: right;\n",
       "  white-space: pre-wrap;\n",
       "}\n",
       "</style>\n",
       "<small>shape: (5_000, 1)</small><table border=\"1\" class=\"dataframe\"><thead><tr><th>abc</th></tr><tr><td>f64</td></tr></thead><tbody><tr><td>0.000154</td></tr><tr><td>0.000934</td></tr><tr><td>0.001006</td></tr><tr><td>0.001129</td></tr><tr><td>0.001596</td></tr><tr><td>&hellip;</td></tr><tr><td>7.567751</td></tr><tr><td>7.753024</td></tr><tr><td>7.761074</td></tr><tr><td>8.270096</td></tr><tr><td>8.327961</td></tr></tbody></table></div>"
      ],
      "text/plain": [
       "shape: (5_000, 1)\n",
       "┌──────────┐\n",
       "│ abc      │\n",
       "│ ---      │\n",
       "│ f64      │\n",
       "╞══════════╡\n",
       "│ 0.000154 │\n",
       "│ 0.000934 │\n",
       "│ 0.001006 │\n",
       "│ 0.001129 │\n",
       "│ 0.001596 │\n",
       "│ …        │\n",
       "│ 7.567751 │\n",
       "│ 7.753024 │\n",
       "│ 7.761074 │\n",
       "│ 8.270096 │\n",
       "│ 8.327961 │\n",
       "└──────────┘"
      ]
     },
     "execution_count": 30,
     "metadata": {},
     "output_type": "execute_result"
    }
   ],
   "source": [
    "df.select(pl.col('abc').sort() / 1000)"
   ]
  },
  {
   "cell_type": "code",
   "execution_count": 31,
   "id": "3deb4524-99ae-4823-9a67-be03ec6ac990",
   "metadata": {},
   "outputs": [],
   "source": [
    "df_2020 = df.filter(pl.col('yyyy')>2020)"
   ]
  },
  {
   "cell_type": "code",
   "execution_count": 32,
   "id": "603a2071-4630-4f76-a3ea-b2fe20186e0a",
   "metadata": {},
   "outputs": [
    {
     "data": {
      "text/html": [
       "<div><style>\n",
       ".dataframe > thead > tr,\n",
       ".dataframe > tbody > tr {\n",
       "  text-align: right;\n",
       "  white-space: pre-wrap;\n",
       "}\n",
       "</style>\n",
       "<small>shape: (484, 3)</small><table border=\"1\" class=\"dataframe\"><thead><tr><th>abc</th><th>yyyy</th><th>tipo</th></tr><tr><td>f64</td><td>i64</td><td>str</td></tr></thead><tbody><tr><td>535.883635</td><td>2021</td><td>&quot;A&quot;</td></tr><tr><td>459.910574</td><td>2022</td><td>&quot;B&quot;</td></tr><tr><td>1127.481441</td><td>2022</td><td>&quot;C&quot;</td></tr><tr><td>1775.775932</td><td>2021</td><td>&quot;C&quot;</td></tr><tr><td>1814.18821</td><td>2021</td><td>&quot;B&quot;</td></tr><tr><td>&hellip;</td><td>&hellip;</td><td>&hellip;</td></tr><tr><td>1083.121706</td><td>2023</td><td>&quot;B&quot;</td></tr><tr><td>755.9895</td><td>2023</td><td>&quot;B&quot;</td></tr><tr><td>1766.175209</td><td>2021</td><td>&quot;B&quot;</td></tr><tr><td>507.735571</td><td>2023</td><td>&quot;B&quot;</td></tr><tr><td>0.154353</td><td>2023</td><td>&quot;A&quot;</td></tr></tbody></table></div>"
      ],
      "text/plain": [
       "shape: (484, 3)\n",
       "┌─────────────┬──────┬──────┐\n",
       "│ abc         ┆ yyyy ┆ tipo │\n",
       "│ ---         ┆ ---  ┆ ---  │\n",
       "│ f64         ┆ i64  ┆ str  │\n",
       "╞═════════════╪══════╪══════╡\n",
       "│ 535.883635  ┆ 2021 ┆ A    │\n",
       "│ 459.910574  ┆ 2022 ┆ B    │\n",
       "│ 1127.481441 ┆ 2022 ┆ C    │\n",
       "│ 1775.775932 ┆ 2021 ┆ C    │\n",
       "│ 1814.18821  ┆ 2021 ┆ B    │\n",
       "│ …           ┆ …    ┆ …    │\n",
       "│ 1083.121706 ┆ 2023 ┆ B    │\n",
       "│ 755.9895    ┆ 2023 ┆ B    │\n",
       "│ 1766.175209 ┆ 2021 ┆ B    │\n",
       "│ 507.735571  ┆ 2023 ┆ B    │\n",
       "│ 0.154353    ┆ 2023 ┆ A    │\n",
       "└─────────────┴──────┴──────┘"
      ]
     },
     "execution_count": 32,
     "metadata": {},
     "output_type": "execute_result"
    }
   ],
   "source": [
    "df_2020"
   ]
  },
  {
   "cell_type": "code",
   "execution_count": 33,
   "id": "5b5645c0-20c4-4019-bd3e-a6edddbf6e6a",
   "metadata": {},
   "outputs": [
    {
     "data": {
      "text/html": [
       "<div><style>\n",
       ".dataframe > thead > tr,\n",
       ".dataframe > tbody > tr {\n",
       "  text-align: right;\n",
       "  white-space: pre-wrap;\n",
       "}\n",
       "</style>\n",
       "<small>shape: (3, 4)</small><table border=\"1\" class=\"dataframe\"><thead><tr><th>tipo</th><th>mean_abc</th><th>median_yyyy</th><th>len</th></tr><tr><td>str</td><td>f64</td><td>f64</td><td>u32</td></tr></thead><tbody><tr><td>&quot;A&quot;</td><td>971.179181</td><td>2009.0</td><td>1666</td></tr><tr><td>&quot;B&quot;</td><td>981.124779</td><td>2009.0</td><td>1642</td></tr><tr><td>&quot;C&quot;</td><td>966.720129</td><td>2009.0</td><td>1692</td></tr></tbody></table></div>"
      ],
      "text/plain": [
       "shape: (3, 4)\n",
       "┌──────┬────────────┬─────────────┬──────┐\n",
       "│ tipo ┆ mean_abc   ┆ median_yyyy ┆ len  │\n",
       "│ ---  ┆ ---        ┆ ---         ┆ ---  │\n",
       "│ str  ┆ f64        ┆ f64         ┆ u32  │\n",
       "╞══════╪════════════╪═════════════╪══════╡\n",
       "│ A    ┆ 971.179181 ┆ 2009.0      ┆ 1666 │\n",
       "│ B    ┆ 981.124779 ┆ 2009.0      ┆ 1642 │\n",
       "│ C    ┆ 966.720129 ┆ 2009.0      ┆ 1692 │\n",
       "└──────┴────────────┴─────────────┴──────┘"
      ]
     },
     "execution_count": 33,
     "metadata": {},
     "output_type": "execute_result"
    }
   ],
   "source": [
    "df.group_by('tipo').agg(\n",
    "    pl.mean(\"abc\").alias(\"mean_abc\"),\n",
    "    pl.median(\"yyyy\").alias(\"median_yyyy\"),\n",
    "    pl.len()\n",
    ")"
   ]
  },
  {
   "cell_type": "code",
   "execution_count": 4,
   "id": "6d5483c2-93db-4e92-a3ea-d5ebf644dbd0",
   "metadata": {},
   "outputs": [
    {
     "data": {
      "text/html": [
       "<h4>NAIVE QUERY PLAN</h4><p>run <b>LazyFrame.show_graph()</b> to see the optimized version</p><?xml version=\"1.0\" encoding=\"UTF-8\" standalone=\"no\"?>\n",
       "<!DOCTYPE svg PUBLIC \"-//W3C//DTD SVG 1.1//EN\"\n",
       " \"http://www.w3.org/Graphics/SVG/1.1/DTD/svg11.dtd\">\n",
       "<!-- Generated by graphviz version 2.43.0 (0)\n",
       " -->\n",
       "<!-- Title: polars_query Pages: 1 -->\n",
       "<svg width=\"292pt\" height=\"277pt\"\n",
       " viewBox=\"0.00 0.00 292.00 277.00\" xmlns=\"http://www.w3.org/2000/svg\" xmlns:xlink=\"http://www.w3.org/1999/xlink\">\n",
       "<g id=\"graph0\" class=\"graph\" transform=\"scale(1 1) rotate(0) translate(4 273)\">\n",
       "<title>polars_query</title>\n",
       "<polygon fill=\"white\" stroke=\"transparent\" points=\"-4,4 -4,-273 288,-273 288,4 -4,4\"/>\n",
       "<!-- FILTER BY (col(&quot;year&quot;)) &lt; (dyn int:... [(0, 0)] -->\n",
       "<g id=\"node1\" class=\"node\">\n",
       "<title>FILTER BY (col(&quot;year&quot;)) &lt; (dyn int:... [(0, 0)]</title>\n",
       "<polygon fill=\"none\" stroke=\"black\" points=\"281,-269 3,-269 3,-233 281,-233 281,-269\"/>\n",
       "<text text-anchor=\"middle\" x=\"142\" y=\"-247.3\" font-family=\"Times,serif\" font-size=\"14.00\">FILTER BY (col(&quot;year&quot;)) &lt; (dyn int:...</text>\n",
       "</g>\n",
       "<!-- FILTER BY (col(&quot;price_per_sqft&quot;)) &gt;... [(0, 1)] -->\n",
       "<g id=\"node2\" class=\"node\">\n",
       "<title>FILTER BY (col(&quot;price_per_sqft&quot;)) &gt;... [(0, 1)]</title>\n",
       "<polygon fill=\"none\" stroke=\"black\" points=\"284,-197 0,-197 0,-161 284,-161 284,-197\"/>\n",
       "<text text-anchor=\"middle\" x=\"142\" y=\"-175.3\" font-family=\"Times,serif\" font-size=\"14.00\">FILTER BY (col(&quot;price_per_sqft&quot;)) &gt;...</text>\n",
       "</g>\n",
       "<!-- FILTER BY (col(&quot;year&quot;)) &lt; (dyn int:... [(0, 0)]&#45;&#45;FILTER BY (col(&quot;price_per_sqft&quot;)) &gt;... [(0, 1)] -->\n",
       "<g id=\"edge1\" class=\"edge\">\n",
       "<title>FILTER BY (col(&quot;year&quot;)) &lt; (dyn int:... [(0, 0)]&#45;&#45;FILTER BY (col(&quot;price_per_sqft&quot;)) &gt;... [(0, 1)]</title>\n",
       "<path fill=\"none\" stroke=\"black\" d=\"M142,-232.7C142,-221.85 142,-207.92 142,-197.1\"/>\n",
       "</g>\n",
       "<!-- WITH COLUMNS [&quot;price_per_sqft&quot;] [(0, 2)] -->\n",
       "<g id=\"node3\" class=\"node\">\n",
       "<title>WITH COLUMNS [&quot;price_per_sqft&quot;] [(0, 2)]</title>\n",
       "<polygon fill=\"none\" stroke=\"black\" points=\"276.5,-125 7.5,-125 7.5,-89 276.5,-89 276.5,-125\"/>\n",
       "<text text-anchor=\"middle\" x=\"142\" y=\"-103.3\" font-family=\"Times,serif\" font-size=\"14.00\">WITH COLUMNS [&quot;price_per_sqft&quot;]</text>\n",
       "</g>\n",
       "<!-- FILTER BY (col(&quot;price_per_sqft&quot;)) &gt;... [(0, 1)]&#45;&#45;WITH COLUMNS [&quot;price_per_sqft&quot;] [(0, 2)] -->\n",
       "<g id=\"edge2\" class=\"edge\">\n",
       "<title>FILTER BY (col(&quot;price_per_sqft&quot;)) &gt;... [(0, 1)]&#45;&#45;WITH COLUMNS [&quot;price_per_sqft&quot;] [(0, 2)]</title>\n",
       "<path fill=\"none\" stroke=\"black\" d=\"M142,-160.7C142,-149.85 142,-135.92 142,-125.1\"/>\n",
       "</g>\n",
       "<!-- TABLE\n",
       "π */4;\n",
       "σ &#45; [(0, 3)] -->\n",
       "<g id=\"node4\" class=\"node\">\n",
       "<title>TABLE\n",
       "π */4;\n",
       "σ &#45; [(0, 3)]</title>\n",
       "<polygon fill=\"none\" stroke=\"black\" points=\"174.5,-53 109.5,-53 109.5,0 174.5,0 174.5,-53\"/>\n",
       "<text text-anchor=\"middle\" x=\"142\" y=\"-37.8\" font-family=\"Times,serif\" font-size=\"14.00\">TABLE</text>\n",
       "<text text-anchor=\"middle\" x=\"142\" y=\"-22.8\" font-family=\"Times,serif\" font-size=\"14.00\">π */4;</text>\n",
       "<text text-anchor=\"middle\" x=\"142\" y=\"-7.8\" font-family=\"Times,serif\" font-size=\"14.00\">σ &#45;</text>\n",
       "</g>\n",
       "<!-- WITH COLUMNS [&quot;price_per_sqft&quot;] [(0, 2)]&#45;&#45;TABLE\n",
       "π */4;\n",
       "σ &#45; [(0, 3)] -->\n",
       "<g id=\"edge3\" class=\"edge\">\n",
       "<title>WITH COLUMNS [&quot;price_per_sqft&quot;] [(0, 2)]&#45;&#45;TABLE\n",
       "π */4;\n",
       "σ &#45; [(0, 3)]</title>\n",
       "<path fill=\"none\" stroke=\"black\" d=\"M142,-88.97C142,-78.51 142,-64.9 142,-53.16\"/>\n",
       "</g>\n",
       "</g>\n",
       "</svg>\n"
      ],
      "text/plain": [
       "<LazyFrame at 0x7375141C8DC0>"
      ]
     },
     "execution_count": 4,
     "metadata": {},
     "output_type": "execute_result"
    }
   ],
   "source": [
    "import numpy as np\n",
    "import polars as pl\n",
    " \n",
    "num_rows = 5000\n",
    "rng = np.random.default_rng(seed=7)\n",
    " \n",
    "buildings = {\n",
    "     \"sqft\": rng.exponential(scale=1000, size=num_rows),\n",
    "     \"price\": rng.exponential(scale=100_000, size=num_rows),\n",
    "     \"year\": rng.integers(low=1995, high=2023, size=num_rows),\n",
    "     \"building_type\": rng.choice([\"A\", \"B\", \"C\"], size=num_rows),\n",
    "  }\n",
    "buildings_lazy = pl.LazyFrame(buildings)\n",
    "buildings_lazy\n",
    " \n",
    "lazy_query = (\n",
    "    buildings_lazy\n",
    "    .with_columns(\n",
    "        (pl.col(\"price\") / pl.col(\"sqft\")).alias(\"price_per_sqft\")\n",
    "    )\n",
    "    .filter(pl.col(\"price_per_sqft\") > 100)\n",
    "    .filter(pl.col(\"year\") < 2010)\n",
    ")\n",
    "lazy_query"
   ]
  },
  {
   "cell_type": "code",
   "execution_count": 5,
   "id": "3d5728c8-71f7-47cb-896d-080978f9d3ff",
   "metadata": {},
   "outputs": [
    {
     "data": {
      "image/svg+xml": [
       "<svg xmlns=\"http://www.w3.org/2000/svg\" xmlns:xlink=\"http://www.w3.org/1999/xlink\" width=\"292pt\" height=\"205pt\" viewBox=\"0.00 0.00 292.00 205.00\">\n",
       "<g id=\"graph0\" class=\"graph\" transform=\"scale(1 1) rotate(0) translate(4 201)\">\n",
       "<title>polars_query</title>\n",
       "<polygon fill=\"white\" stroke=\"transparent\" points=\"-4,4 -4,-201 288,-201 288,4 -4,4\"/>\n",
       "<!-- FILTER BY (col(&quot;price_per_sqft&quot;)) &gt;... [(0, 0)] -->\n",
       "<g id=\"node1\" class=\"node\">\n",
       "<title>FILTER BY (col(&quot;price_per_sqft&quot;)) &gt;... [(0, 0)]</title>\n",
       "<polygon fill=\"none\" stroke=\"black\" points=\"284,-197 0,-197 0,-161 284,-161 284,-197\"/>\n",
       "<text text-anchor=\"middle\" x=\"142\" y=\"-175.3\" font-family=\"Times,serif\" font-size=\"14.00\">FILTER BY (col(&quot;price_per_sqft&quot;)) &gt;...</text>\n",
       "</g>\n",
       "<!-- WITH COLUMNS [&quot;price_per_sqft&quot;] [(0, 1)] -->\n",
       "<g id=\"node2\" class=\"node\">\n",
       "<title>WITH COLUMNS [&quot;price_per_sqft&quot;] [(0, 1)]</title>\n",
       "<polygon fill=\"none\" stroke=\"black\" points=\"276.5,-125 7.5,-125 7.5,-89 276.5,-89 276.5,-125\"/>\n",
       "<text text-anchor=\"middle\" x=\"142\" y=\"-103.3\" font-family=\"Times,serif\" font-size=\"14.00\">WITH COLUMNS [&quot;price_per_sqft&quot;]</text>\n",
       "</g>\n",
       "<!-- FILTER BY (col(&quot;price_per_sqft&quot;)) &gt;... [(0, 0)]&#45;&#45;WITH COLUMNS [&quot;price_per_sqft&quot;] [(0, 1)] -->\n",
       "<g id=\"edge1\" class=\"edge\">\n",
       "<title>FILTER BY (col(&quot;price_per_sqft&quot;)) &gt;... [(0, 0)]--WITH COLUMNS [&quot;price_per_sqft&quot;] [(0, 1)]</title>\n",
       "<path fill=\"none\" stroke=\"black\" d=\"M142,-160.7C142,-149.85 142,-135.92 142,-125.1\"/>\n",
       "</g>\n",
       "<!-- TABLE\n",
       "π */4;\n",
       "σ (col(&quot;year&quot;)) &lt; (2010) [(0, 2)] -->\n",
       "<g id=\"node3\" class=\"node\">\n",
       "<title>TABLE\n",
       "π */4;\n",
       "σ (col(&quot;year&quot;)) &lt; (2010) [(0, 2)]</title>\n",
       "<polygon fill=\"none\" stroke=\"black\" points=\"234.5,-53 49.5,-53 49.5,0 234.5,0 234.5,-53\"/>\n",
       "<text text-anchor=\"middle\" x=\"142\" y=\"-37.8\" font-family=\"Times,serif\" font-size=\"14.00\">TABLE</text>\n",
       "<text text-anchor=\"middle\" x=\"142\" y=\"-22.8\" font-family=\"Times,serif\" font-size=\"14.00\">π */4;</text>\n",
       "<text text-anchor=\"middle\" x=\"142\" y=\"-7.8\" font-family=\"Times,serif\" font-size=\"14.00\">σ (col(&quot;year&quot;)) &lt; (2010)</text>\n",
       "</g>\n",
       "<!-- WITH COLUMNS [&quot;price_per_sqft&quot;] [(0, 1)]&#45;&#45;TABLE\n",
       "π */4;\n",
       "σ (col(&quot;year&quot;)) &lt; (2010) [(0, 2)] -->\n",
       "<g id=\"edge2\" class=\"edge\">\n",
       "<title>WITH COLUMNS [&quot;price_per_sqft&quot;] [(0, 1)]--TABLE\n",
       "π */4;\n",
       "σ (col(&quot;year&quot;)) &lt; (2010) [(0, 2)]</title>\n",
       "<path fill=\"none\" stroke=\"black\" d=\"M142,-88.97C142,-78.51 142,-64.9 142,-53.16\"/>\n",
       "</g>\n",
       "</g>\n",
       "</svg>"
      ],
      "text/plain": [
       "<IPython.core.display.SVG object>"
      ]
     },
     "metadata": {},
     "output_type": "display_data"
    }
   ],
   "source": [
    "lazy_query.show_graph()"
   ]
  },
  {
   "cell_type": "code",
   "execution_count": 6,
   "id": "9077776d-e2d3-4897-9bdb-0313f674c94f",
   "metadata": {},
   "outputs": [
    {
     "name": "stdout",
     "output_type": "stream",
     "text": [
      "FILTER [(col(\"price_per_sqft\")) > (100.0)] FROM\n",
      " WITH_COLUMNS:\n",
      " [[(col(\"price\")) / (col(\"sqft\"))].alias(\"price_per_sqft\")], [] \n",
      "  DF [\"sqft\", \"price\", \"year\", \"building_type\"]; PROJECT */4 COLUMNS; SELECTION: [(col(\"year\")) < (2010)]\n"
     ]
    }
   ],
   "source": [
    "print(lazy_query.explain())"
   ]
  },
  {
   "cell_type": "code",
   "execution_count": 7,
   "id": "88f8fcb8-072c-4390-9d85-473b3e32aee7",
   "metadata": {},
   "outputs": [
    {
     "data": {
      "text/html": [
       "<div><style>\n",
       ".dataframe > thead > tr,\n",
       ".dataframe > tbody > tr {\n",
       "  text-align: right;\n",
       "  white-space: pre-wrap;\n",
       "}\n",
       "</style>\n",
       "<small>shape: (1_317, 5)</small><table border=\"1\" class=\"dataframe\"><thead><tr><th>sqft</th><th>price</th><th>year</th><th>building_type</th><th>price_per_sqft</th></tr><tr><td>f64</td><td>f64</td><td>i64</td><td>str</td><td>f64</td></tr></thead><tbody><tr><td>9.753627</td><td>31876.709467</td><td>1996</td><td>&quot;B&quot;</td><td>3268.19045</td></tr><tr><td>575.332756</td><td>157836.308297</td><td>2000</td><td>&quot;A&quot;</td><td>274.339166</td></tr><tr><td>541.135894</td><td>160706.384529</td><td>2004</td><td>&quot;C&quot;</td><td>296.979717</td></tr><tr><td>312.145612</td><td>118260.959791</td><td>2002</td><td>&quot;C&quot;</td><td>378.86472</td></tr><tr><td>1223.566418</td><td>155763.172528</td><td>1995</td><td>&quot;B&quot;</td><td>127.302589</td></tr><tr><td>&hellip;</td><td>&hellip;</td><td>&hellip;</td><td>&hellip;</td><td>&hellip;</td></tr><tr><td>300.07268</td><td>79730.200062</td><td>2008</td><td>&quot;B&quot;</td><td>265.702962</td></tr><tr><td>45.167911</td><td>112098.176874</td><td>2009</td><td>&quot;B&quot;</td><td>2481.810063</td></tr><tr><td>99.773084</td><td>69661.948942</td><td>2008</td><td>&quot;C&quot;</td><td>698.203822</td></tr><tr><td>197.842124</td><td>107045.996211</td><td>2005</td><td>&quot;A&quot;</td><td>541.067767</td></tr><tr><td>686.678345</td><td>73591.321961</td><td>1995</td><td>&quot;B&quot;</td><td>107.170005</td></tr></tbody></table></div>"
      ],
      "text/plain": [
       "shape: (1_317, 5)\n",
       "┌─────────────┬───────────────┬──────┬───────────────┬────────────────┐\n",
       "│ sqft        ┆ price         ┆ year ┆ building_type ┆ price_per_sqft │\n",
       "│ ---         ┆ ---           ┆ ---  ┆ ---           ┆ ---            │\n",
       "│ f64         ┆ f64           ┆ i64  ┆ str           ┆ f64            │\n",
       "╞═════════════╪═══════════════╪══════╪═══════════════╪════════════════╡\n",
       "│ 9.753627    ┆ 31876.709467  ┆ 1996 ┆ B             ┆ 3268.19045     │\n",
       "│ 575.332756  ┆ 157836.308297 ┆ 2000 ┆ A             ┆ 274.339166     │\n",
       "│ 541.135894  ┆ 160706.384529 ┆ 2004 ┆ C             ┆ 296.979717     │\n",
       "│ 312.145612  ┆ 118260.959791 ┆ 2002 ┆ C             ┆ 378.86472      │\n",
       "│ 1223.566418 ┆ 155763.172528 ┆ 1995 ┆ B             ┆ 127.302589     │\n",
       "│ …           ┆ …             ┆ …    ┆ …             ┆ …              │\n",
       "│ 300.07268   ┆ 79730.200062  ┆ 2008 ┆ B             ┆ 265.702962     │\n",
       "│ 45.167911   ┆ 112098.176874 ┆ 2009 ┆ B             ┆ 2481.810063    │\n",
       "│ 99.773084   ┆ 69661.948942  ┆ 2008 ┆ C             ┆ 698.203822     │\n",
       "│ 197.842124  ┆ 107045.996211 ┆ 2005 ┆ A             ┆ 541.067767     │\n",
       "│ 686.678345  ┆ 73591.321961  ┆ 1995 ┆ B             ┆ 107.170005     │\n",
       "└─────────────┴───────────────┴──────┴───────────────┴────────────────┘"
      ]
     },
     "execution_count": 7,
     "metadata": {},
     "output_type": "execute_result"
    }
   ],
   "source": [
    "lazy_query.collect()"
   ]
  },
  {
   "cell_type": "code",
   "execution_count": 11,
   "id": "4748806b-1e50-4f30-bc61-14caf6a1f7a1",
   "metadata": {},
   "outputs": [
    {
     "name": "stdout",
     "output_type": "stream",
     "text": [
      "File successfully downloaded and stored at: electric_cars.csv\n"
     ]
    }
   ],
   "source": [
    "import requests\n",
    "import pathlib\n",
    " \n",
    "def download_file(file_url: str, local_file_path: pathlib.Path) -> None:\n",
    "    \"\"\"Download a file and save it with the specified file name.\"\"\"\n",
    "    response = requests.get(file_url)\n",
    "    if response:\n",
    "        local_file_path.write_bytes(response.content)\n",
    "        print(f\"File successfully downloaded and stored at: {local_file_path}\")\n",
    "    else:\n",
    "        raise requests.exceptions.RequestException(\n",
    "            f\"Failed to download the file. Status code: {response.status_code}\"\n",
    "        )\n",
    " \n",
    "import pathlib\n",
    " \n",
    "url = \"https://data.wa.gov/api/views/f6w7-q2d2/rows.csv?accessType=DOWNLOAD\"\n",
    "local_file_path = pathlib.Path(\"electric_cars.csv\")\n",
    " \n",
    "download_file(url, local_file_path)\n",
    " \n",
    "lazy_car_data = pl.scan_csv(local_file_path)\n",
    "lazy_car_data\n",
    " \n",
    " \n",
    "lazy_car_data.schema\n",
    " \n",
    " \n",
    "lazy_car_query = (\n",
    "    lazy_car_data\n",
    "    .filter((pl.col(\"Model Year\") >= 2018))\n",
    "    .filter(\n",
    "        pl.col(\"Electric Vehicle Type\") == \"Battery Electric Vehicle (BEV)\"\n",
    "    )\n",
    "    .group_by([\"State\", \"Make\"])\n",
    "    .agg(\n",
    "        pl.mean(\"Electric Range\").alias(\"Average Electric Range\"),\n",
    "        pl.min(\"Model Year\").alias(\"Oldest Model Year\"),\n",
    "        pl.len().alias(\"Number of Cars\"),\n",
    "    )\n",
    "    .filter(pl.col(\"Average Electric Range\") > 0)\n",
    "    .filter(pl.col(\"Number of Cars\") > 5)\n",
    "    .sort(pl.col(\"Number of Cars\"), descending=True)\n",
    ")"
   ]
  },
  {
   "cell_type": "code",
   "execution_count": 12,
   "id": "8ea927b2-d2f1-42fd-9c30-ffd2167feae5",
   "metadata": {},
   "outputs": [
    {
     "name": "stdout",
     "output_type": "stream",
     "text": [
      "File successfully downloaded and stored at: electric_cars.csv\n"
     ]
    },
    {
     "data": {
      "text/plain": [
       "OrderedDict([('VIN (1-10)', String),\n",
       "             ('County', String),\n",
       "             ('City', String),\n",
       "             ('State', String),\n",
       "             ('Postal Code', Int64),\n",
       "             ('Model Year', Int64),\n",
       "             ('Make', String),\n",
       "             ('Model', String),\n",
       "             ('Electric Vehicle Type', String),\n",
       "             ('Clean Alternative Fuel Vehicle (CAFV) Eligibility', String),\n",
       "             ('Electric Range', Int64),\n",
       "             ('Base MSRP', Int64),\n",
       "             ('Legislative District', Int64),\n",
       "             ('DOL Vehicle ID', Int64),\n",
       "             ('Vehicle Location', String),\n",
       "             ('Electric Utility', String),\n",
       "             ('2020 Census Tract', Int64)])"
      ]
     },
     "execution_count": 12,
     "metadata": {},
     "output_type": "execute_result"
    }
   ],
   "source": [
    "import pathlib\n",
    " \n",
    "url = \"https://data.wa.gov/api/views/f6w7-q2d2/rows.csv?accessType=DOWNLOAD\"\n",
    "local_file_path = pathlib.Path(\"electric_cars.csv\")\n",
    " \n",
    "download_file(url, local_file_path)\n",
    " \n",
    "lazy_car_data = pl.scan_csv(local_file_path)\n",
    "lazy_car_data\n",
    " \n",
    " \n",
    "lazy_car_data.schema"
   ]
  },
  {
   "cell_type": "code",
   "execution_count": 13,
   "id": "83434675-0d37-4a37-9cb1-d9c1fc51f348",
   "metadata": {},
   "outputs": [],
   "source": [
    "lazy_car_query = (\n",
    "    lazy_car_data\n",
    "    .filter((pl.col(\"Model Year\") >= 2018))\n",
    "    .filter(\n",
    "        pl.col(\"Electric Vehicle Type\") == \"Battery Electric Vehicle (BEV)\"\n",
    "    )\n",
    "    .group_by([\"State\", \"Make\"])\n",
    "    .agg(\n",
    "        pl.mean(\"Electric Range\").alias(\"Average Electric Range\"),\n",
    "        pl.min(\"Model Year\").alias(\"Oldest Model Year\"),\n",
    "        pl.len().alias(\"Number of Cars\"),\n",
    "    )\n",
    "    .filter(pl.col(\"Average Electric Range\") > 0)\n",
    "    .filter(pl.col(\"Number of Cars\") > 5)\n",
    "    .sort(pl.col(\"Number of Cars\"), descending=True)\n",
    ")"
   ]
  },
  {
   "cell_type": "code",
   "execution_count": 14,
   "id": "8d9e3f43-3980-4b2a-b685-2c1b6827d98e",
   "metadata": {},
   "outputs": [
    {
     "data": {
      "image/svg+xml": [
       "<svg xmlns=\"http://www.w3.org/2000/svg\" xmlns:xlink=\"http://www.w3.org/1999/xlink\" width=\"1090pt\" height=\"294pt\" viewBox=\"0.00 0.00 1090.00 294.00\">\n",
       "<g id=\"graph0\" class=\"graph\" transform=\"scale(1 1) rotate(0) translate(4 290)\">\n",
       "<title>polars_query</title>\n",
       "<polygon fill=\"white\" stroke=\"transparent\" points=\"-4,4 -4,-290 1086,-290 1086,4 -4,4\"/>\n",
       "<!-- SORT BY [col(&quot;Number of Cars&quot;)] [(0, 0)] -->\n",
       "<g id=\"node1\" class=\"node\">\n",
       "<title>SORT BY [col(&quot;Number of Cars&quot;)] [(0, 0)]</title>\n",
       "<polygon fill=\"none\" stroke=\"black\" points=\"668,-286 414,-286 414,-250 668,-250 668,-286\"/>\n",
       "<text text-anchor=\"middle\" x=\"541\" y=\"-264.3\" font-family=\"Times,serif\" font-size=\"14.00\">SORT BY [col(&quot;Number of Cars&quot;)]</text>\n",
       "</g>\n",
       "<!-- FILTER BY ((col(&quot;Average Electric R... [(0, 1)] -->\n",
       "<g id=\"node2\" class=\"node\">\n",
       "<title>FILTER BY ((col(&quot;Average Electric R... [(0, 1)]</title>\n",
       "<polygon fill=\"none\" stroke=\"black\" points=\"684.5,-214 397.5,-214 397.5,-178 684.5,-178 684.5,-214\"/>\n",
       "<text text-anchor=\"middle\" x=\"541\" y=\"-192.3\" font-family=\"Times,serif\" font-size=\"14.00\">FILTER BY ((col(&quot;Average Electric R...</text>\n",
       "</g>\n",
       "<!-- SORT BY [col(&quot;Number of Cars&quot;)] [(0, 0)]&#45;&#45;FILTER BY ((col(&quot;Average Electric R... [(0, 1)] -->\n",
       "<g id=\"edge1\" class=\"edge\">\n",
       "<title>SORT BY [col(&quot;Number of Cars&quot;)] [(0, 0)]--FILTER BY ((col(&quot;Average Electric R... [(0, 1)]</title>\n",
       "<path fill=\"none\" stroke=\"black\" d=\"M541,-249.7C541,-238.85 541,-224.92 541,-214.1\"/>\n",
       "</g>\n",
       "<!-- AGG [col(&quot;Electric Range&quot;).mean().alias(&quot;Average Electric Range&quot;), col(&quot;Model Year&quot;).min().alias(&quot;Oldest Model Year&quot;), len().alias(&quot;Number of Cars&quot;)]\n",
       "BY\n",
       "[col(&quot;State&quot;),col(&quot;Make&quot;)] [(0, 2)] [(0, 2)] -->\n",
       "<g id=\"node3\" class=\"node\">\n",
       "<title>AGG [col(&quot;Electric Range&quot;).mean().alias(&quot;Average Electric Range&quot;), col(&quot;Model Year&quot;).min().alias(&quot;Oldest Model Year&quot;), len().alias(&quot;Number of Cars&quot;)]\n",
       "BY\n",
       "[col(&quot;State&quot;),col(&quot;Make&quot;)] [(0, 2)] [(0, 2)]</title>\n",
       "<polygon fill=\"none\" stroke=\"black\" points=\"1082,-142 0,-142 0,-89 1082,-89 1082,-142\"/>\n",
       "<text text-anchor=\"middle\" x=\"541\" y=\"-126.8\" font-family=\"Times,serif\" font-size=\"14.00\">AGG [col(&quot;Electric Range&quot;).mean().alias(&quot;Average Electric Range&quot;), col(&quot;Model Year&quot;).min().alias(&quot;Oldest Model Year&quot;), len().alias(&quot;Number of Cars&quot;)]</text>\n",
       "<text text-anchor=\"middle\" x=\"541\" y=\"-111.8\" font-family=\"Times,serif\" font-size=\"14.00\">BY</text>\n",
       "<text text-anchor=\"middle\" x=\"541\" y=\"-96.8\" font-family=\"Times,serif\" font-size=\"14.00\">[col(&quot;State&quot;),col(&quot;Make&quot;)] [(0, 2)]</text>\n",
       "</g>\n",
       "<!-- FILTER BY ((col(&quot;Average Electric R... [(0, 1)]&#45;&#45;AGG [col(&quot;Electric Range&quot;).mean().alias(&quot;Average Electric Range&quot;), col(&quot;Model Year&quot;).min().alias(&quot;Oldest Model Year&quot;), len().alias(&quot;Number of Cars&quot;)]\n",
       "BY\n",
       "[col(&quot;State&quot;),col(&quot;Make&quot;)] [(0, 2)] [(0, 2)] -->\n",
       "<g id=\"edge2\" class=\"edge\">\n",
       "<title>FILTER BY ((col(&quot;Average Electric R... [(0, 1)]--AGG [col(&quot;Electric Range&quot;).mean().alias(&quot;Average Electric Range&quot;), col(&quot;Model Year&quot;).min().alias(&quot;Oldest Model Year&quot;), len().alias(&quot;Number of Cars&quot;)]\n",
       "BY\n",
       "[col(&quot;State&quot;),col(&quot;Make&quot;)] [(0, 2)] [(0, 2)]</title>\n",
       "<path fill=\"none\" stroke=\"black\" d=\"M541,-177.97C541,-167.51 541,-153.9 541,-142.16\"/>\n",
       "</g>\n",
       "<!-- Csv SCAN electric_cars.csv;\n",
       "π 5/17;\n",
       "σ ((col(&quot;Electric Vehicle T... [(0, 3)] -->\n",
       "<g id=\"node4\" class=\"node\">\n",
       "<title>Csv SCAN electric_cars.csv;\n",
       "π 5/17;\n",
       "σ ((col(&quot;Electric Vehicle T... [(0, 3)]</title>\n",
       "<polygon fill=\"none\" stroke=\"black\" points=\"649,-53 433,-53 433,0 649,0 649,-53\"/>\n",
       "<text text-anchor=\"middle\" x=\"541\" y=\"-37.8\" font-family=\"Times,serif\" font-size=\"14.00\">Csv SCAN electric_cars.csv;</text>\n",
       "<text text-anchor=\"middle\" x=\"541\" y=\"-22.8\" font-family=\"Times,serif\" font-size=\"14.00\">π 5/17;</text>\n",
       "<text text-anchor=\"middle\" x=\"541\" y=\"-7.8\" font-family=\"Times,serif\" font-size=\"14.00\">σ ((col(&quot;Electric Vehicle T...</text>\n",
       "</g>\n",
       "<!-- AGG [col(&quot;Electric Range&quot;).mean().alias(&quot;Average Electric Range&quot;), col(&quot;Model Year&quot;).min().alias(&quot;Oldest Model Year&quot;), len().alias(&quot;Number of Cars&quot;)]\n",
       "BY\n",
       "[col(&quot;State&quot;),col(&quot;Make&quot;)] [(0, 2)] [(0, 2)]&#45;&#45;Csv SCAN electric_cars.csv;\n",
       "π 5/17;\n",
       "σ ((col(&quot;Electric Vehicle T... [(0, 3)] -->\n",
       "<g id=\"edge3\" class=\"edge\">\n",
       "<title>AGG [col(&quot;Electric Range&quot;).mean().alias(&quot;Average Electric Range&quot;), col(&quot;Model Year&quot;).min().alias(&quot;Oldest Model Year&quot;), len().alias(&quot;Number of Cars&quot;)]\n",
       "BY\n",
       "[col(&quot;State&quot;),col(&quot;Make&quot;)] [(0, 2)] [(0, 2)]--Csv SCAN electric_cars.csv;\n",
       "π 5/17;\n",
       "σ ((col(&quot;Electric Vehicle T... [(0, 3)]</title>\n",
       "<path fill=\"none\" stroke=\"black\" d=\"M541,-88.87C541,-77.64 541,-64.49 541,-53.25\"/>\n",
       "</g>\n",
       "</g>\n",
       "</svg>"
      ],
      "text/plain": [
       "<IPython.core.display.SVG object>"
      ]
     },
     "metadata": {},
     "output_type": "display_data"
    }
   ],
   "source": [
    "lazy_car_query.show_graph()"
   ]
  },
  {
   "cell_type": "code",
   "execution_count": 15,
   "id": "435959ca-8ea8-44a8-aeff-e3d1b260599a",
   "metadata": {},
   "outputs": [
    {
     "data": {
      "text/html": [
       "<div><style>\n",
       ".dataframe > thead > tr,\n",
       ".dataframe > tbody > tr {\n",
       "  text-align: right;\n",
       "  white-space: pre-wrap;\n",
       "}\n",
       "</style>\n",
       "<small>shape: (1, 5)</small><table border=\"1\" class=\"dataframe\"><thead><tr><th>State</th><th>Make</th><th>Average Electric Range</th><th>Oldest Model Year</th><th>Number of Cars</th></tr><tr><td>str</td><td>str</td><td>f64</td><td>i64</td><td>u32</td></tr></thead><tbody><tr><td>&quot;NC&quot;</td><td>&quot;TESLA&quot;</td><td>23.888889</td><td>2018</td><td>9</td></tr></tbody></table></div>"
      ],
      "text/plain": [
       "shape: (1, 5)\n",
       "┌───────┬───────┬────────────────────────┬───────────────────┬────────────────┐\n",
       "│ State ┆ Make  ┆ Average Electric Range ┆ Oldest Model Year ┆ Number of Cars │\n",
       "│ ---   ┆ ---   ┆ ---                    ┆ ---               ┆ ---            │\n",
       "│ str   ┆ str   ┆ f64                    ┆ i64               ┆ u32            │\n",
       "╞═══════╪═══════╪════════════════════════╪═══════════════════╪════════════════╡\n",
       "│ NC    ┆ TESLA ┆ 23.888889              ┆ 2018              ┆ 9              │\n",
       "└───────┴───────┴────────────────────────┴───────────────────┴────────────────┘"
      ]
     },
     "execution_count": 15,
     "metadata": {},
     "output_type": "execute_result"
    }
   ],
   "source": [
    "lazy_car_query.filter(pl.col('State') == 'NC').collect()"
   ]
  },
  {
   "cell_type": "code",
   "execution_count": null,
   "id": "c33852c8-4c37-48a1-b1bf-d0b0f8714f1c",
   "metadata": {},
   "outputs": [],
   "source": []
  }
 ],
 "metadata": {
  "kernelspec": {
   "display_name": "Python 3 (ipykernel)",
   "language": "python",
   "name": "python3"
  },
  "language_info": {
   "codemirror_mode": {
    "name": "ipython",
    "version": 3
   },
   "file_extension": ".py",
   "mimetype": "text/x-python",
   "name": "python",
   "nbconvert_exporter": "python",
   "pygments_lexer": "ipython3",
   "version": "3.9.19"
  }
 },
 "nbformat": 4,
 "nbformat_minor": 5
}
