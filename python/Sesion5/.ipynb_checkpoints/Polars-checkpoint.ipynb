{
 "cells": [
  {
   "cell_type": "code",
   "execution_count": 1,
   "id": "5c3baac2-1d6d-471f-8a0a-9d6cb36b01c8",
   "metadata": {},
   "outputs": [
    {
     "name": "stdout",
     "output_type": "stream",
     "text": [
      "Collecting polars\n",
      "  Downloading polars-0.20.26-cp38-abi3-manylinux_2_17_x86_64.manylinux2014_x86_64.whl (28.0 MB)\n",
      "\u001b[2K     \u001b[90m━━━━━━━━━━━━━━━━━━━━━━━━━━━━━━━━━━━━━━━━\u001b[0m \u001b[32m28.0/28.0 MB\u001b[0m \u001b[31m49.1 MB/s\u001b[0m eta \u001b[36m0:00:00\u001b[0m00:01\u001b[0m00:01\u001b[0m\n",
      "\u001b[?25hInstalling collected packages: polars\n",
      "Successfully installed polars-0.20.26\n",
      "\u001b[33mWARNING: Running pip as the 'root' user can result in broken permissions and conflicting behaviour with the system package manager. It is recommended to use a virtual environment instead: https://pip.pypa.io/warnings/venv\u001b[0m\u001b[33m\n",
      "\u001b[0m\n",
      "\u001b[1m[\u001b[0m\u001b[34;49mnotice\u001b[0m\u001b[1;39;49m]\u001b[0m\u001b[39;49m A new release of pip is available: \u001b[0m\u001b[31;49m23.0.1\u001b[0m\u001b[39;49m -> \u001b[0m\u001b[32;49m24.0\u001b[0m\n",
      "\u001b[1m[\u001b[0m\u001b[34;49mnotice\u001b[0m\u001b[1;39;49m]\u001b[0m\u001b[39;49m To update, run: \u001b[0m\u001b[32;49mpip install --upgrade pip\u001b[0m\n"
     ]
    }
   ],
   "source": [
    "! pip install polars"
   ]
  },
  {
   "cell_type": "code",
   "execution_count": 2,
   "id": "154ad9ce-5eca-43a8-b2cb-441e61372522",
   "metadata": {},
   "outputs": [],
   "source": [
    "import polars as pl"
   ]
  },
  {
   "cell_type": "code",
   "execution_count": 4,
   "id": "bcbd0594-dfca-4211-9714-063ed4355c28",
   "metadata": {},
   "outputs": [],
   "source": [
    "data = {\n",
    "    \"nombre\" : [\"Alicia\",\"Marco\",\"Pedro\"],\n",
    "    \"Edad\" : [30,20,30],\n",
    "    \"Salario\" : [3000,5000,7000]\n",
    "}\n",
    "df = pl.DataFrame(data)"
   ]
  },
  {
   "cell_type": "code",
   "execution_count": 7,
   "id": "55ad23e8-a0f8-4fb1-9151-32c9543ab39a",
   "metadata": {},
   "outputs": [
    {
     "data": {
      "text/html": [
       "<div><style>\n",
       ".dataframe > thead > tr,\n",
       ".dataframe > tbody > tr {\n",
       "  text-align: right;\n",
       "  white-space: pre-wrap;\n",
       "}\n",
       "</style>\n",
       "<small>shape: (9, 4)</small><table border=\"1\" class=\"dataframe\"><thead><tr><th>statistic</th><th>nombre</th><th>Edad</th><th>Salario</th></tr><tr><td>str</td><td>str</td><td>f64</td><td>f64</td></tr></thead><tbody><tr><td>&quot;count&quot;</td><td>&quot;3&quot;</td><td>3.0</td><td>3.0</td></tr><tr><td>&quot;null_count&quot;</td><td>&quot;0&quot;</td><td>0.0</td><td>0.0</td></tr><tr><td>&quot;mean&quot;</td><td>null</td><td>26.666667</td><td>5000.0</td></tr><tr><td>&quot;std&quot;</td><td>null</td><td>5.773503</td><td>2000.0</td></tr><tr><td>&quot;min&quot;</td><td>&quot;Alicia&quot;</td><td>20.0</td><td>3000.0</td></tr><tr><td>&quot;25%&quot;</td><td>null</td><td>30.0</td><td>5000.0</td></tr><tr><td>&quot;50%&quot;</td><td>null</td><td>30.0</td><td>5000.0</td></tr><tr><td>&quot;75%&quot;</td><td>null</td><td>30.0</td><td>7000.0</td></tr><tr><td>&quot;max&quot;</td><td>&quot;Pedro&quot;</td><td>30.0</td><td>7000.0</td></tr></tbody></table></div>"
      ],
      "text/plain": [
       "shape: (9, 4)\n",
       "┌────────────┬────────┬───────────┬─────────┐\n",
       "│ statistic  ┆ nombre ┆ Edad      ┆ Salario │\n",
       "│ ---        ┆ ---    ┆ ---       ┆ ---     │\n",
       "│ str        ┆ str    ┆ f64       ┆ f64     │\n",
       "╞════════════╪════════╪═══════════╪═════════╡\n",
       "│ count      ┆ 3      ┆ 3.0       ┆ 3.0     │\n",
       "│ null_count ┆ 0      ┆ 0.0       ┆ 0.0     │\n",
       "│ mean       ┆ null   ┆ 26.666667 ┆ 5000.0  │\n",
       "│ std        ┆ null   ┆ 5.773503  ┆ 2000.0  │\n",
       "│ min        ┆ Alicia ┆ 20.0      ┆ 3000.0  │\n",
       "│ 25%        ┆ null   ┆ 30.0      ┆ 5000.0  │\n",
       "│ 50%        ┆ null   ┆ 30.0      ┆ 5000.0  │\n",
       "│ 75%        ┆ null   ┆ 30.0      ┆ 7000.0  │\n",
       "│ max        ┆ Pedro  ┆ 30.0      ┆ 7000.0  │\n",
       "└────────────┴────────┴───────────┴─────────┘"
      ]
     },
     "execution_count": 7,
     "metadata": {},
     "output_type": "execute_result"
    }
   ],
   "source": [
    "df.describe()"
   ]
  },
  {
   "cell_type": "code",
   "execution_count": 8,
   "id": "9d322337-2ff1-4b74-a8d6-52c5ee34e0dc",
   "metadata": {},
   "outputs": [
    {
     "data": {
      "text/html": [
       "<div><style>\n",
       ".dataframe > thead > tr,\n",
       ".dataframe > tbody > tr {\n",
       "  text-align: right;\n",
       "  white-space: pre-wrap;\n",
       "}\n",
       "</style>\n",
       "<small>shape: (13, 3)</small><table border=\"1\" class=\"dataframe\"><thead><tr><th>break_point</th><th>category</th><th>count</th></tr><tr><td>f64</td><td>cat</td><td>u32</td></tr></thead><tbody><tr><td>19.0</td><td>&quot;(-inf, 19.0]&quot;</td><td>0</td></tr><tr><td>20.0</td><td>&quot;(19.0, 20.0]&quot;</td><td>1</td></tr><tr><td>21.0</td><td>&quot;(20.0, 21.0]&quot;</td><td>0</td></tr><tr><td>22.0</td><td>&quot;(21.0, 22.0]&quot;</td><td>0</td></tr><tr><td>23.0</td><td>&quot;(22.0, 23.0]&quot;</td><td>0</td></tr><tr><td>&hellip;</td><td>&hellip;</td><td>&hellip;</td></tr><tr><td>27.0</td><td>&quot;(26.0, 27.0]&quot;</td><td>0</td></tr><tr><td>28.0</td><td>&quot;(27.0, 28.0]&quot;</td><td>0</td></tr><tr><td>29.0</td><td>&quot;(28.0, 29.0]&quot;</td><td>0</td></tr><tr><td>30.0</td><td>&quot;(29.0, 30.0]&quot;</td><td>2</td></tr><tr><td>inf</td><td>&quot;(30.0, inf]&quot;</td><td>0</td></tr></tbody></table></div>"
      ],
      "text/plain": [
       "shape: (13, 3)\n",
       "┌─────────────┬──────────────┬───────┐\n",
       "│ break_point ┆ category     ┆ count │\n",
       "│ ---         ┆ ---          ┆ ---   │\n",
       "│ f64         ┆ cat          ┆ u32   │\n",
       "╞═════════════╪══════════════╪═══════╡\n",
       "│ 19.0        ┆ (-inf, 19.0] ┆ 0     │\n",
       "│ 20.0        ┆ (19.0, 20.0] ┆ 1     │\n",
       "│ 21.0        ┆ (20.0, 21.0] ┆ 0     │\n",
       "│ 22.0        ┆ (21.0, 22.0] ┆ 0     │\n",
       "│ 23.0        ┆ (22.0, 23.0] ┆ 0     │\n",
       "│ …           ┆ …            ┆ …     │\n",
       "│ 27.0        ┆ (26.0, 27.0] ┆ 0     │\n",
       "│ 28.0        ┆ (27.0, 28.0] ┆ 0     │\n",
       "│ 29.0        ┆ (28.0, 29.0] ┆ 0     │\n",
       "│ 30.0        ┆ (29.0, 30.0] ┆ 2     │\n",
       "│ inf         ┆ (30.0, inf]  ┆ 0     │\n",
       "└─────────────┴──────────────┴───────┘"
      ]
     },
     "execution_count": 8,
     "metadata": {},
     "output_type": "execute_result"
    }
   ],
   "source": [
    "df[\"Edad\"].hist()"
   ]
  },
  {
   "cell_type": "code",
   "execution_count": 10,
   "id": "f1f374d1-e5b7-4789-8183-35d1086dc7c2",
   "metadata": {},
   "outputs": [
    {
     "data": {
      "text/plain": [
       "['nombre', 'Edad', 'Salario']"
      ]
     },
     "execution_count": 10,
     "metadata": {},
     "output_type": "execute_result"
    }
   ],
   "source": [
    "df.columns"
   ]
  },
  {
   "cell_type": "code",
   "execution_count": 11,
   "id": "b9133103-72c6-4648-82cc-2759a3ee454c",
   "metadata": {},
   "outputs": [
    {
     "data": {
      "text/plain": [
       "OrderedDict([('nombre', String), ('Edad', Int64), ('Salario', Int64)])"
      ]
     },
     "execution_count": 11,
     "metadata": {},
     "output_type": "execute_result"
    }
   ],
   "source": [
    "df.schema"
   ]
  },
  {
   "cell_type": "code",
   "execution_count": 12,
   "id": "2eb22d53-f4ca-4b43-a284-1cfd46ce8a28",
   "metadata": {},
   "outputs": [],
   "source": [
    "import numpy as np"
   ]
  },
  {
   "cell_type": "code",
   "execution_count": 26,
   "id": "c5a16a89-2134-4ff1-8e29-3db2aa9a0b03",
   "metadata": {},
   "outputs": [],
   "source": [
    "num_row = 5000\n",
    "rng = np.random.default_rng(seed=6)\n",
    "\n",
    "data = {\n",
    "    \"abc\": rng.exponential(scale = 1000, size = num_row),\n",
    "    \"yyyy\": rng.integers(low = 1995, high = 2024, size = num_row),\n",
    "    \"tipo\": rng.choice(['A','B','C'], size = num_row)\n",
    "}"
   ]
  },
  {
   "cell_type": "code",
   "execution_count": 27,
   "id": "b74f0ef1-d093-46c0-8f5a-29ab814cb44e",
   "metadata": {},
   "outputs": [
    {
     "data": {
      "text/html": [
       "<div><style>\n",
       ".dataframe > thead > tr,\n",
       ".dataframe > tbody > tr {\n",
       "  text-align: right;\n",
       "  white-space: pre-wrap;\n",
       "}\n",
       "</style>\n",
       "<small>shape: (5, 3)</small><table border=\"1\" class=\"dataframe\"><thead><tr><th>abc</th><th>yyyy</th><th>tipo</th></tr><tr><td>f64</td><td>i64</td><td>str</td></tr></thead><tbody><tr><td>691.262417</td><td>1999</td><td>&quot;B&quot;</td></tr><tr><td>183.450091</td><td>2009</td><td>&quot;B&quot;</td></tr><tr><td>602.713529</td><td>2002</td><td>&quot;B&quot;</td></tr><tr><td>535.883635</td><td>2021</td><td>&quot;A&quot;</td></tr><tr><td>734.729888</td><td>2004</td><td>&quot;A&quot;</td></tr></tbody></table></div>"
      ],
      "text/plain": [
       "shape: (5, 3)\n",
       "┌────────────┬──────┬──────┐\n",
       "│ abc        ┆ yyyy ┆ tipo │\n",
       "│ ---        ┆ ---  ┆ ---  │\n",
       "│ f64        ┆ i64  ┆ str  │\n",
       "╞════════════╪══════╪══════╡\n",
       "│ 691.262417 ┆ 1999 ┆ B    │\n",
       "│ 183.450091 ┆ 2009 ┆ B    │\n",
       "│ 602.713529 ┆ 2002 ┆ B    │\n",
       "│ 535.883635 ┆ 2021 ┆ A    │\n",
       "│ 734.729888 ┆ 2004 ┆ A    │\n",
       "└────────────┴──────┴──────┘"
      ]
     },
     "execution_count": 27,
     "metadata": {},
     "output_type": "execute_result"
    }
   ],
   "source": [
    "df = pl.DataFrame(data)\n",
    "df.head()"
   ]
  },
  {
   "cell_type": "code",
   "execution_count": 28,
   "id": "61bc79ea-ad58-41af-ae5f-fca8108bcdc7",
   "metadata": {},
   "outputs": [
    {
     "data": {
      "text/plain": [
       "(5000, 3)"
      ]
     },
     "execution_count": 28,
     "metadata": {},
     "output_type": "execute_result"
    }
   ],
   "source": [
    "df.shape"
   ]
  },
  {
   "cell_type": "code",
   "execution_count": 29,
   "id": "979078a3-2bf0-4e79-968b-6c5b3e897eea",
   "metadata": {},
   "outputs": [
    {
     "data": {
      "text/html": [
       "<div><style>\n",
       ".dataframe > thead > tr,\n",
       ".dataframe > tbody > tr {\n",
       "  text-align: right;\n",
       "  white-space: pre-wrap;\n",
       "}\n",
       "</style>\n",
       "<small>shape: (5_000, 1)</small><table border=\"1\" class=\"dataframe\"><thead><tr><th>abc</th></tr><tr><td>f64</td></tr></thead><tbody><tr><td>691.262417</td></tr><tr><td>183.450091</td></tr><tr><td>602.713529</td></tr><tr><td>535.883635</td></tr><tr><td>734.729888</td></tr><tr><td>&hellip;</td></tr><tr><td>473.241886</td></tr><tr><td>476.181568</td></tr><tr><td>1059.974062</td></tr><tr><td>321.801803</td></tr><tr><td>478.724566</td></tr></tbody></table></div>"
      ],
      "text/plain": [
       "shape: (5_000, 1)\n",
       "┌─────────────┐\n",
       "│ abc         │\n",
       "│ ---         │\n",
       "│ f64         │\n",
       "╞═════════════╡\n",
       "│ 691.262417  │\n",
       "│ 183.450091  │\n",
       "│ 602.713529  │\n",
       "│ 535.883635  │\n",
       "│ 734.729888  │\n",
       "│ …           │\n",
       "│ 473.241886  │\n",
       "│ 476.181568  │\n",
       "│ 1059.974062 │\n",
       "│ 321.801803  │\n",
       "│ 478.724566  │\n",
       "└─────────────┘"
      ]
     },
     "execution_count": 29,
     "metadata": {},
     "output_type": "execute_result"
    }
   ],
   "source": [
    "df.select('abc')"
   ]
  },
  {
   "cell_type": "code",
   "execution_count": 30,
   "id": "303f932a-175a-4579-88ff-f5620bcb45e5",
   "metadata": {},
   "outputs": [
    {
     "data": {
      "text/html": [
       "<div><style>\n",
       ".dataframe > thead > tr,\n",
       ".dataframe > tbody > tr {\n",
       "  text-align: right;\n",
       "  white-space: pre-wrap;\n",
       "}\n",
       "</style>\n",
       "<small>shape: (5_000, 1)</small><table border=\"1\" class=\"dataframe\"><thead><tr><th>abc</th></tr><tr><td>f64</td></tr></thead><tbody><tr><td>0.000154</td></tr><tr><td>0.000934</td></tr><tr><td>0.001006</td></tr><tr><td>0.001129</td></tr><tr><td>0.001596</td></tr><tr><td>&hellip;</td></tr><tr><td>7.567751</td></tr><tr><td>7.753024</td></tr><tr><td>7.761074</td></tr><tr><td>8.270096</td></tr><tr><td>8.327961</td></tr></tbody></table></div>"
      ],
      "text/plain": [
       "shape: (5_000, 1)\n",
       "┌──────────┐\n",
       "│ abc      │\n",
       "│ ---      │\n",
       "│ f64      │\n",
       "╞══════════╡\n",
       "│ 0.000154 │\n",
       "│ 0.000934 │\n",
       "│ 0.001006 │\n",
       "│ 0.001129 │\n",
       "│ 0.001596 │\n",
       "│ …        │\n",
       "│ 7.567751 │\n",
       "│ 7.753024 │\n",
       "│ 7.761074 │\n",
       "│ 8.270096 │\n",
       "│ 8.327961 │\n",
       "└──────────┘"
      ]
     },
     "execution_count": 30,
     "metadata": {},
     "output_type": "execute_result"
    }
   ],
   "source": [
    "df.select(pl.col('abc').sort() / 1000)"
   ]
  },
  {
   "cell_type": "code",
   "execution_count": 31,
   "id": "3deb4524-99ae-4823-9a67-be03ec6ac990",
   "metadata": {},
   "outputs": [],
   "source": [
    "df_2020 = df.filter(pl.col('yyyy')>2020)"
   ]
  },
  {
   "cell_type": "code",
   "execution_count": 32,
   "id": "603a2071-4630-4f76-a3ea-b2fe20186e0a",
   "metadata": {},
   "outputs": [
    {
     "data": {
      "text/html": [
       "<div><style>\n",
       ".dataframe > thead > tr,\n",
       ".dataframe > tbody > tr {\n",
       "  text-align: right;\n",
       "  white-space: pre-wrap;\n",
       "}\n",
       "</style>\n",
       "<small>shape: (484, 3)</small><table border=\"1\" class=\"dataframe\"><thead><tr><th>abc</th><th>yyyy</th><th>tipo</th></tr><tr><td>f64</td><td>i64</td><td>str</td></tr></thead><tbody><tr><td>535.883635</td><td>2021</td><td>&quot;A&quot;</td></tr><tr><td>459.910574</td><td>2022</td><td>&quot;B&quot;</td></tr><tr><td>1127.481441</td><td>2022</td><td>&quot;C&quot;</td></tr><tr><td>1775.775932</td><td>2021</td><td>&quot;C&quot;</td></tr><tr><td>1814.18821</td><td>2021</td><td>&quot;B&quot;</td></tr><tr><td>&hellip;</td><td>&hellip;</td><td>&hellip;</td></tr><tr><td>1083.121706</td><td>2023</td><td>&quot;B&quot;</td></tr><tr><td>755.9895</td><td>2023</td><td>&quot;B&quot;</td></tr><tr><td>1766.175209</td><td>2021</td><td>&quot;B&quot;</td></tr><tr><td>507.735571</td><td>2023</td><td>&quot;B&quot;</td></tr><tr><td>0.154353</td><td>2023</td><td>&quot;A&quot;</td></tr></tbody></table></div>"
      ],
      "text/plain": [
       "shape: (484, 3)\n",
       "┌─────────────┬──────┬──────┐\n",
       "│ abc         ┆ yyyy ┆ tipo │\n",
       "│ ---         ┆ ---  ┆ ---  │\n",
       "│ f64         ┆ i64  ┆ str  │\n",
       "╞═════════════╪══════╪══════╡\n",
       "│ 535.883635  ┆ 2021 ┆ A    │\n",
       "│ 459.910574  ┆ 2022 ┆ B    │\n",
       "│ 1127.481441 ┆ 2022 ┆ C    │\n",
       "│ 1775.775932 ┆ 2021 ┆ C    │\n",
       "│ 1814.18821  ┆ 2021 ┆ B    │\n",
       "│ …           ┆ …    ┆ …    │\n",
       "│ 1083.121706 ┆ 2023 ┆ B    │\n",
       "│ 755.9895    ┆ 2023 ┆ B    │\n",
       "│ 1766.175209 ┆ 2021 ┆ B    │\n",
       "│ 507.735571  ┆ 2023 ┆ B    │\n",
       "│ 0.154353    ┆ 2023 ┆ A    │\n",
       "└─────────────┴──────┴──────┘"
      ]
     },
     "execution_count": 32,
     "metadata": {},
     "output_type": "execute_result"
    }
   ],
   "source": [
    "df_2020"
   ]
  },
  {
   "cell_type": "code",
   "execution_count": 33,
   "id": "5b5645c0-20c4-4019-bd3e-a6edddbf6e6a",
   "metadata": {},
   "outputs": [
    {
     "data": {
      "text/html": [
       "<div><style>\n",
       ".dataframe > thead > tr,\n",
       ".dataframe > tbody > tr {\n",
       "  text-align: right;\n",
       "  white-space: pre-wrap;\n",
       "}\n",
       "</style>\n",
       "<small>shape: (3, 4)</small><table border=\"1\" class=\"dataframe\"><thead><tr><th>tipo</th><th>mean_abc</th><th>median_yyyy</th><th>len</th></tr><tr><td>str</td><td>f64</td><td>f64</td><td>u32</td></tr></thead><tbody><tr><td>&quot;A&quot;</td><td>971.179181</td><td>2009.0</td><td>1666</td></tr><tr><td>&quot;B&quot;</td><td>981.124779</td><td>2009.0</td><td>1642</td></tr><tr><td>&quot;C&quot;</td><td>966.720129</td><td>2009.0</td><td>1692</td></tr></tbody></table></div>"
      ],
      "text/plain": [
       "shape: (3, 4)\n",
       "┌──────┬────────────┬─────────────┬──────┐\n",
       "│ tipo ┆ mean_abc   ┆ median_yyyy ┆ len  │\n",
       "│ ---  ┆ ---        ┆ ---         ┆ ---  │\n",
       "│ str  ┆ f64        ┆ f64         ┆ u32  │\n",
       "╞══════╪════════════╪═════════════╪══════╡\n",
       "│ A    ┆ 971.179181 ┆ 2009.0      ┆ 1666 │\n",
       "│ B    ┆ 981.124779 ┆ 2009.0      ┆ 1642 │\n",
       "│ C    ┆ 966.720129 ┆ 2009.0      ┆ 1692 │\n",
       "└──────┴────────────┴─────────────┴──────┘"
      ]
     },
     "execution_count": 33,
     "metadata": {},
     "output_type": "execute_result"
    }
   ],
   "source": [
    "df.group_by('tipo').agg(\n",
    "    pl.mean(\"abc\").alias(\"mean_abc\"),\n",
    "    pl.median(\"yyyy\").alias(\"median_yyyy\"),\n",
    "    pl.len()\n",
    ")"
   ]
  },
  {
   "cell_type": "code",
   "execution_count": 1,
   "id": "6d5483c2-93db-4e92-a3ea-d5ebf644dbd0",
   "metadata": {},
   "outputs": [
    {
     "data": {
      "text/html": [
       "<i>naive plan: (run <b>LazyFrame.explain(optimized=True)</b> to see the optimized plan)</i>\n",
       "    <p></p>\n",
       "    <div>FILTER [(col(\"year\")) < (dyn int: 2010)] FROM<p></p>FILTER [(col(\"price_per_sqft\")) > (dyn int: 100)] FROM<p></p> WITH_COLUMNS:<p></p> [[(col(\"price\")) / (col(\"sqft\"))].alias(\"price_per_sqft\")]<p></p>  DF [\"sqft\", \"price\", \"year\", \"building_type\"]; PROJECT */4 COLUMNS; SELECTION: \"None\"</div>"
      ],
      "text/plain": [
       "<LazyFrame at 0x7375141E1880>"
      ]
     },
     "execution_count": 1,
     "metadata": {},
     "output_type": "execute_result"
    }
   ],
   "source": [
    "import numpy as np\n",
    "import polars as pl\n",
    " \n",
    "num_rows = 5000\n",
    "rng = np.random.default_rng(seed=7)\n",
    " \n",
    "buildings = {\n",
    "     \"sqft\": rng.exponential(scale=1000, size=num_rows),\n",
    "     \"price\": rng.exponential(scale=100_000, size=num_rows),\n",
    "     \"year\": rng.integers(low=1995, high=2023, size=num_rows),\n",
    "     \"building_type\": rng.choice([\"A\", \"B\", \"C\"], size=num_rows),\n",
    "  }\n",
    "buildings_lazy = pl.LazyFrame(buildings)\n",
    "buildings_lazy\n",
    " \n",
    "lazy_query = (\n",
    "    buildings_lazy\n",
    "    .with_columns(\n",
    "        (pl.col(\"price\") / pl.col(\"sqft\")).alias(\"price_per_sqft\")\n",
    "    )\n",
    "    .filter(pl.col(\"price_per_sqft\") > 100)\n",
    "    .filter(pl.col(\"year\") < 2010)\n",
    ")\n",
    "lazy_query"
   ]
  },
  {
   "cell_type": "code",
   "execution_count": null,
   "id": "3d5728c8-71f7-47cb-896d-080978f9d3ff",
   "metadata": {},
   "outputs": [],
   "source": []
  }
 ],
 "metadata": {
  "kernelspec": {
   "display_name": "Python 3 (ipykernel)",
   "language": "python",
   "name": "python3"
  },
  "language_info": {
   "codemirror_mode": {
    "name": "ipython",
    "version": 3
   },
   "file_extension": ".py",
   "mimetype": "text/x-python",
   "name": "python",
   "nbconvert_exporter": "python",
   "pygments_lexer": "ipython3",
   "version": "3.9.19"
  }
 },
 "nbformat": 4,
 "nbformat_minor": 5
}
